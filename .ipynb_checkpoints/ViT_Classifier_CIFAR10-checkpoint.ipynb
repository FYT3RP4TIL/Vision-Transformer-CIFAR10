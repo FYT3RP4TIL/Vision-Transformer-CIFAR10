{
 "cells": [
  {
   "cell_type": "code",
   "execution_count": 1,
   "id": "d395becd",
   "metadata": {
    "scrolled": false
   },
   "outputs": [
    {
     "name": "stderr",
     "output_type": "stream",
     "text": [
      "C:\\Users\\SUDHANSHU\\anaconda3\\lib\\site-packages\\tensorflow_addons\\utils\\tfa_eol_msg.py:23: UserWarning: \n",
      "\n",
      "TensorFlow Addons (TFA) has ended development and introduction of new features.\n",
      "TFA has entered a minimal maintenance and release mode until a planned end of life in May 2024.\n",
      "Please modify downstream libraries to take dependencies from other repositories in our TensorFlow community (e.g. Keras, Keras-CV, and Keras-NLP). \n",
      "\n",
      "For more information see: https://github.com/tensorflow/addons/issues/2807 \n",
      "\n",
      "  warnings.warn(\n"
     ]
    }
   ],
   "source": [
    "import numpy as np\n",
    "import tensorflow as tf\n",
    "from tensorflow import keras\n",
    "from tensorflow.keras import layers\n",
    "import tensorflow_addons as tfa\n"
   ]
  },
  {
   "cell_type": "markdown",
   "id": "c034d719",
   "metadata": {},
   "source": [
    "## Importing Dataset"
   ]
  },
  {
   "cell_type": "code",
   "execution_count": 2,
   "id": "c64f5560",
   "metadata": {},
   "outputs": [],
   "source": [
    "num_classes = 10\n",
    "input_shape = (32, 32, 3)\n",
    "\n",
    "(x_train, y_train), (x_test, y_test) = keras.datasets.cifar10.load_data()\n",
    "\n",
    "#print(f\"x_train shape : {x_train.shape} - y_train shape : {y_train.shape}\")\n",
    "#print(f\"x_test shape : {x_test.shape} - y_test shape : {y_test.shape}\")\n"
   ]
  },
  {
   "cell_type": "code",
   "execution_count": 3,
   "id": "98c384ca",
   "metadata": {
    "scrolled": true
   },
   "outputs": [
    {
     "data": {
      "text/plain": [
       "(50000, 32, 32, 3)"
      ]
     },
     "execution_count": 3,
     "metadata": {},
     "output_type": "execute_result"
    }
   ],
   "source": [
    "x_train.shape"
   ]
  },
  {
   "cell_type": "code",
   "execution_count": 4,
   "id": "f25b6b31",
   "metadata": {},
   "outputs": [
    {
     "data": {
      "text/plain": [
       "(50000, 1)"
      ]
     },
     "execution_count": 4,
     "metadata": {},
     "output_type": "execute_result"
    }
   ],
   "source": [
    "y_train.shape"
   ]
  },
  {
   "cell_type": "code",
   "execution_count": 5,
   "id": "d87262e1",
   "metadata": {},
   "outputs": [
    {
     "data": {
      "text/plain": [
       "(10000, 32, 32, 3)"
      ]
     },
     "execution_count": 5,
     "metadata": {},
     "output_type": "execute_result"
    }
   ],
   "source": [
    "x_test.shape"
   ]
  },
  {
   "cell_type": "code",
   "execution_count": 6,
   "id": "e529c517",
   "metadata": {},
   "outputs": [
    {
     "data": {
      "text/plain": [
       "(10000, 1)"
      ]
     },
     "execution_count": 6,
     "metadata": {},
     "output_type": "execute_result"
    }
   ],
   "source": [
    "y_test.shape"
   ]
  },
  {
   "cell_type": "markdown",
   "id": "63c40288",
   "metadata": {},
   "source": [
    "## Hyper Parameter definition"
   ]
  },
  {
   "cell_type": "code",
   "execution_count": 7,
   "id": "c8d2d3e0",
   "metadata": {},
   "outputs": [],
   "source": [
    "x_train = x_train[:500]\n",
    "y_train = y_train[:500]\n",
    "x_test = x_test[:500]\n",
    "y_test = y_test[:500]"
   ]
  },
  {
   "cell_type": "code",
   "execution_count": 8,
   "id": "084bd9a5",
   "metadata": {},
   "outputs": [],
   "source": [
    "learning_rate = 0.001\n",
    "weight_decay = 0.0001\n",
    "batch_size = 256\n",
    "num_epochs = 40\n",
    "image_size = 72 \n",
    "patch_size = 6\n",
    "num_patches = (image_size//patch_size)**2\n",
    "projection_dim = 64\n",
    "num_heads = 4\n",
    "transformer_units = [\n",
    "    projection_dim*2,\n",
    "    projection_dim\n",
    "]\n",
    "transformer_layers = 8\n",
    "mlp_head_units = [2048, 1024] "
   ]
  },
  {
   "cell_type": "markdown",
   "id": "1f893623",
   "metadata": {},
   "source": [
    "## Build Vit Classifier Model"
   ]
  },
  {
   "cell_type": "markdown",
   "id": "72030bc1",
   "metadata": {},
   "source": [
    "### Data Augmentation"
   ]
  },
  {
   "cell_type": "code",
   "execution_count": 9,
   "id": "ebb35a9c",
   "metadata": {},
   "outputs": [],
   "source": [
    "data_augmentation = keras.Sequential(\n",
    "    [\n",
    "        layers.Normalization(),\n",
    "        layers.Resizing(image_size, image_size),\n",
    "        layers.RandomFlip(\"horizontal\"),\n",
    "        layers.RandomRotation(factor=0.02),\n",
    "        layers.RandomZoom(\n",
    "            height_factor=0.2, width_factor=0.2\n",
    "        )\n",
    "    ],\n",
    "    name=\"data_augmentation\"\n",
    ")\n",
    "data_augmentation.layers[0].adapt(x_train)"
   ]
  },
  {
   "cell_type": "markdown",
   "id": "429bf325",
   "metadata": {},
   "source": [
    "### Define MLP Architecture"
   ]
  },
  {
   "cell_type": "code",
   "execution_count": 10,
   "id": "769943a7",
   "metadata": {},
   "outputs": [],
   "source": [
    "def mlp(x, hidden_units, dropout_rate):\n",
    "    for units in hidden_units:\n",
    "        x = layers.Dense(units, activation=tf.nn.gelu)(x)\n",
    "        x = layers.Dropout(dropout_rate)(x)\n",
    "    return x\n"
   ]
  },
  {
   "cell_type": "markdown",
   "id": "c5e73873",
   "metadata": {},
   "source": [
    "### Patches"
   ]
  },
  {
   "cell_type": "code",
   "execution_count": 11,
   "id": "c74d8df4",
   "metadata": {},
   "outputs": [],
   "source": [
    "class Patches(layers.Layer):\n",
    "    def __init__(self, patch_size):\n",
    "        super(Patches, self).__init__()\n",
    "        self.patch_size = patch_size\n",
    "        \n",
    "    def call(self, images):\n",
    "        batch_size = tf.shape(images)[0]\n",
    "        patches = tf.image.extract_patches(\n",
    "            images = images,\n",
    "            sizes = [1, self.patch_size, self.patch_size, 1],\n",
    "            strides = [1, self.patch_size, self.patch_size, 1],\n",
    "            rates = [1, 1, 1, 1],\n",
    "            padding = \"VALID\"\n",
    "        )\n",
    "        patch_dims = patches.shape[-1]\n",
    "        patches = tf.reshape(patches, [batch_size, -1, patch_dims])\n",
    "        return patches"
   ]
  },
  {
   "cell_type": "code",
   "execution_count": 12,
   "id": "31359c69",
   "metadata": {},
   "outputs": [
    {
     "name": "stdout",
     "output_type": "stream",
     "text": [
      "Image Size : 72 X 72\n",
      "Patch Size : 6 X 6\n",
      "Patches per Image : 144\n",
      "Elements per Patch : 108\n"
     ]
    },
    {
     "data": {
      "image/png": "[encoded data removed]",
      "text/plain": [
       "<Figure size 400x400 with 1 Axes>"
      ]
     },
     "metadata": {},
     "output_type": "display_data"
    },
    {
     "data": {
      "image/png": "[encoded data removed]",
      "text/plain": [
       "<Figure size 400x400 with 144 Axes>"
      ]
     },
     "metadata": {},
     "output_type": "display_data"
    }
   ],
   "source": [
    "import matplotlib.pyplot as plt\n",
    "\n",
    "plt.figure(figsize=(4, 4))\n",
    "image = x_train[np.random.choice(range(x_train.shape[0]))]\n",
    "plt.imshow(image.astype(\"uint8\"))\n",
    "plt.axis(\"off\")\n",
    "\n",
    "resized_image = tf.image.resize(\n",
    "    tf.convert_to_tensor([image]), size=(image_size, image_size)\n",
    ")\n",
    "patches = Patches(patch_size)(resized_image)\n",
    "print(f\"Image Size : {image_size} X {image_size}\")\n",
    "print(f\"Patch Size : {patch_size} X {patch_size}\")\n",
    "print(f\"Patches per Image : {patches.shape[1]}\")\n",
    "print(f\"Elements per Patch : {patches.shape[-1]}\")\n",
    "\n",
    "n = int(np.sqrt(patches.shape[1]))\n",
    "plt.figure(figsize=(4, 4))\n",
    "for i, patch in enumerate(patches[0]):\n",
    "    ax = plt.subplot(n, n, i+1)\n",
    "    patch_img = tf.reshape(patch, (patch_size, patch_size, 3))\n",
    "    plt.imshow(patch_img.numpy().astype(\"uint8\"))\n",
    "    plt.axis(\"off\")\n"
   ]
  },
  {
   "cell_type": "markdown",
   "id": "8502cb22",
   "metadata": {},
   "source": [
    "### Patch Encoder"
   ]
  },
  {
   "cell_type": "code",
   "execution_count": 13,
   "id": "4122d593",
   "metadata": {},
   "outputs": [],
   "source": [
    "class PatchEncoder(layers.Layer):\n",
    "    def __init__(self, num_patches, projection_dim):\n",
    "        super(PatchEncoder, self).__init__()\n",
    "        self.num_patches = num_patches\n",
    "        self.projection = layers.Dense(units=projection_dim)\n",
    "        self.position_embedding = layers.Embedding(\n",
    "            input_dim = num_patches,\n",
    "            output_dim = projection_dim\n",
    "        )\n",
    "        \n",
    "    def call(self, patch):\n",
    "        positions = tf.range(start=0, limit=self.num_patches, delta=1)\n",
    "        encoded = self.projection(patch)+self.position_embedding(positions)\n",
    "        return encoded\n",
    "    "
   ]
  },
  {
   "cell_type": "markdown",
   "id": "d8a8e019",
   "metadata": {},
   "source": [
    "### Build the Model"
   ]
  },
  {
   "cell_type": "code",
   "execution_count": 14,
   "id": "c8d7df3f",
   "metadata": {},
   "outputs": [],
   "source": [
    "def create_vit_classifier():\n",
    "    inputs = layers.Input(shape=input_shape)\n",
    "    augmented = data_augmentation(inputs)\n",
    "    patches = Patches(patch_size)(augmented)\n",
    "    encoded_patches = PatchEncoder(num_patches, projection_dim)(patches)\n",
    "    \n",
    "    for _ in range(transformer_layers):\n",
    "        x1 = layers.LayerNormalization(epsilon=1e-6)(encoded_patches)\n",
    "        attention_output = layers.MultiHeadAttention(\n",
    "            num_heads=num_heads,\n",
    "            key_dim=projection_dim,\n",
    "            dropout=0.1\n",
    "        )(x1, x1)\n",
    "        x2 = layers.Add()([attention_output, encoded_patches])\n",
    "        x3 = layers.LayerNormalization(epsilon=1e-6)(x2)\n",
    "        x3 = mlp(x3, hidden_units=transformer_units, dropout_rate=0.1)\n",
    "        encoded_patches = layers.Add()([x3, x2])\n",
    "        \n",
    "    representation = layers.LayerNormalization(epsilon=1e-6)(encoded_patches)\n",
    "    representation = layers.Flatten()(representation)\n",
    "    representation = layers.Dropout(0.5)(representation)\n",
    "    features = mlp(representation, hidden_units=mlp_head_units, dropout_rate=0.5)\n",
    "    logits = layers.Dense(num_classes)(features)\n",
    "    model = keras.Model(inputs=inputs, outputs=logits)\n",
    "    return model\n"
   ]
  },
  {
   "cell_type": "code",
   "execution_count": 15,
   "id": "981667b1",
   "metadata": {},
   "outputs": [],
   "source": [
    "def run(model):\n",
    "    optimizer = tfa.optimizers.AdamW(\n",
    "        learning_rate=learning_rate, weight_decay=weight_decay\n",
    "    )\n",
    "    \n",
    "    model.compile(\n",
    "        optimizer=optimizer,\n",
    "        loss=keras.losses.SparseCategoricalCrossentropy(from_logits=True),\n",
    "        metrics=[\n",
    "            keras.metrics.SparseCategoricalAccuracy(name=\"accuracy\"),\n",
    "            keras.metrics.SparseTopKCategoricalAccuracy(5, name=\"top-5-accuracy\")\n",
    "        ]\n",
    "    )\n",
    "    \n",
    "    checkpoint_filepath = \"./tmp/checkpoint\"\n",
    "    checkpoint_callback = keras.callbacks.ModelCheckpoint(\n",
    "        checkpoint_filepath,\n",
    "        monitor=\"val_accuracy\",\n",
    "        save_best_only = True,\n",
    "        save_weights_only = True\n",
    "    )\n",
    "    \n",
    "    history = model.fit(\n",
    "        x = x_train,\n",
    "        y = y_train,\n",
    "        batch_size = batch_size,\n",
    "        epochs = num_epochs,\n",
    "        validation_split=0.1,\n",
    "        callbacks = [checkpoint_callback]\n",
    "    )\n",
    "    \n",
    "    model.load_weights(checkpoint_filepath)\n",
    "    _, accuracy, top_5_accuracy = model.evaluate(x_test, y_test)\n",
    "    print(f\"Test Accuracy : {round(accuracy*100, 2)}%\")\n",
    "    print(f\"Test Top 5 Accuracy : {round(top_5_accuracy*100, 2)}%\")\n",
    "    "
   ]
  },
  {
   "cell_type": "code",
   "execution_count": 16,
   "id": "eb4855d7",
   "metadata": {
    "scrolled": false
   },
   "outputs": [
    {
     "name": "stdout",
     "output_type": "stream",
     "text": [
      "WARNING:tensorflow:Using a while_loop for converting RngReadAndSkip cause there is no registered converter for this op.\n",
      "WARNING:tensorflow:Using a while_loop for converting Bitcast cause there is no registered converter for this op.\n",
      "WARNING:tensorflow:Using a while_loop for converting Bitcast cause there is no registered converter for this op.\n",
      "WARNING:tensorflow:Using a while_loop for converting StatelessRandomUniformV2 cause there is no registered converter for this op.\n",
      "WARNING:tensorflow:Using a while_loop for converting ImageProjectiveTransformV3 cause there is no registered converter for this op.\n",
      "WARNING:tensorflow:Using a while_loop for converting RngReadAndSkip cause there is no registered converter for this op.\n",
      "WARNING:tensorflow:Using a while_loop for converting Bitcast cause there is no registered converter for this op.\n",
      "WARNING:tensorflow:Using a while_loop for converting Bitcast cause there is no registered converter for this op.\n",
      "WARNING:tensorflow:Using a while_loop for converting StatelessRandomUniformV2 cause there is no registered converter for this op.\n",
      "WARNING:tensorflow:Using a while_loop for converting RngReadAndSkip cause there is no registered converter for this op.\n",
      "WARNING:tensorflow:Using a while_loop for converting Bitcast cause there is no registered converter for this op.\n",
      "WARNING:tensorflow:Using a while_loop for converting Bitcast cause there is no registered converter for this op.\n",
      "WARNING:tensorflow:Using a while_loop for converting StatelessRandomUniformV2 cause there is no registered converter for this op.\n",
      "WARNING:tensorflow:Using a while_loop for converting ImageProjectiveTransformV3 cause there is no registered converter for this op.\n",
      "WARNING:tensorflow:Using a while_loop for converting RngReadAndSkip cause there is no registered converter for this op.\n",
      "WARNING:tensorflow:Using a while_loop for converting Bitcast cause there is no registered converter for this op.\n",
      "WARNING:tensorflow:Using a while_loop for converting Bitcast cause there is no registered converter for this op.\n",
      "WARNING:tensorflow:Using a while_loop for converting StatelessRandomUniformV2 cause there is no registered converter for this op.\n",
      "WARNING:tensorflow:Using a while_loop for converting ImageProjectiveTransformV3 cause there is no registered converter for this op.\n",
      "WARNING:tensorflow:Using a while_loop for converting RngReadAndSkip cause there is no registered converter for this op.\n",
      "WARNING:tensorflow:Using a while_loop for converting Bitcast cause there is no registered converter for this op.\n",
      "WARNING:tensorflow:Using a while_loop for converting Bitcast cause there is no registered converter for this op.\n",
      "WARNING:tensorflow:Using a while_loop for converting StatelessRandomUniformV2 cause there is no registered converter for this op.\n",
      "WARNING:tensorflow:Using a while_loop for converting RngReadAndSkip cause there is no registered converter for this op.\n",
      "WARNING:tensorflow:Using a while_loop for converting Bitcast cause there is no registered converter for this op.\n",
      "WARNING:tensorflow:Using a while_loop for converting Bitcast cause there is no registered converter for this op.\n",
      "WARNING:tensorflow:Using a while_loop for converting StatelessRandomUniformV2 cause there is no registered converter for this op.\n",
      "WARNING:tensorflow:Using a while_loop for converting ImageProjectiveTransformV3 cause there is no registered converter for this op.\n",
      "Epoch 1/40\n",
      "WARNING:tensorflow:Using a while_loop for converting RngReadAndSkip cause there is no registered converter for this op.\n",
      "WARNING:tensorflow:Using a while_loop for converting Bitcast cause there is no registered converter for this op.\n",
      "WARNING:tensorflow:Using a while_loop for converting Bitcast cause there is no registered converter for this op.\n",
      "WARNING:tensorflow:Using a while_loop for converting StatelessRandomUniformV2 cause there is no registered converter for this op.\n",
      "WARNING:tensorflow:Using a while_loop for converting ImageProjectiveTransformV3 cause there is no registered converter for this op.\n",
      "WARNING:tensorflow:Using a while_loop for converting RngReadAndSkip cause there is no registered converter for this op.\n",
      "WARNING:tensorflow:Using a while_loop for converting Bitcast cause there is no registered converter for this op.\n",
      "WARNING:tensorflow:Using a while_loop for converting Bitcast cause there is no registered converter for this op.\n",
      "WARNING:tensorflow:Using a while_loop for converting StatelessRandomUniformV2 cause there is no registered converter for this op.\n",
      "WARNING:tensorflow:Using a while_loop for converting RngReadAndSkip cause there is no registered converter for this op.\n",
      "WARNING:tensorflow:Using a while_loop for converting Bitcast cause there is no registered converter for this op.\n",
      "WARNING:tensorflow:Using a while_loop for converting Bitcast cause there is no registered converter for this op.\n",
      "WARNING:tensorflow:Using a while_loop for converting StatelessRandomUniformV2 cause there is no registered converter for this op.\n",
      "WARNING:tensorflow:Using a while_loop for converting ImageProjectiveTransformV3 cause there is no registered converter for this op.\n",
      "WARNING:tensorflow:Using a while_loop for converting RngReadAndSkip cause there is no registered converter for this op.\n",
      "WARNING:tensorflow:Using a while_loop for converting Bitcast cause there is no registered converter for this op.\n",
      "WARNING:tensorflow:Using a while_loop for converting Bitcast cause there is no registered converter for this op.\n",
      "WARNING:tensorflow:Using a while_loop for converting StatelessRandomUniformV2 cause there is no registered converter for this op.\n",
      "WARNING:tensorflow:Using a while_loop for converting ImageProjectiveTransformV3 cause there is no registered converter for this op.\n",
      "WARNING:tensorflow:Using a while_loop for converting RngReadAndSkip cause there is no registered converter for this op.\n",
      "WARNING:tensorflow:Using a while_loop for converting Bitcast cause there is no registered converter for this op.\n",
      "WARNING:tensorflow:Using a while_loop for converting Bitcast cause there is no registered converter for this op.\n",
      "WARNING:tensorflow:Using a while_loop for converting StatelessRandomUniformV2 cause there is no registered converter for this op.\n",
      "WARNING:tensorflow:Using a while_loop for converting RngReadAndSkip cause there is no registered converter for this op.\n",
      "WARNING:tensorflow:Using a while_loop for converting Bitcast cause there is no registered converter for this op.\n",
      "WARNING:tensorflow:Using a while_loop for converting Bitcast cause there is no registered converter for this op.\n",
      "WARNING:tensorflow:Using a while_loop for converting StatelessRandomUniformV2 cause there is no registered converter for this op.\n",
      "WARNING:tensorflow:Using a while_loop for converting ImageProjectiveTransformV3 cause there is no registered converter for this op.\n",
      "2/2 [==============================] - 25s 7s/step - loss: 6.6310 - accuracy: 0.0978 - top-5-accuracy: 0.5156 - val_loss: 4.7650 - val_accuracy: 0.2800 - val_top-5-accuracy: 0.6800\n",
      "Epoch 2/40\n",
      "2/2 [==============================] - 12s 5s/step - loss: 6.3634 - accuracy: 0.2222 - top-5-accuracy: 0.6267 - val_loss: 3.5749 - val_accuracy: 0.2000 - val_top-5-accuracy: 0.6400\n",
      "Epoch 3/40\n",
      "2/2 [==============================] - 13s 6s/step - loss: 4.1555 - accuracy: 0.1978 - top-5-accuracy: 0.6711 - val_loss: 2.4892 - val_accuracy: 0.3000 - val_top-5-accuracy: 0.6200\n",
      "Epoch 4/40\n",
      "2/2 [==============================] - 12s 5s/step - loss: 2.8872 - accuracy: 0.2356 - top-5-accuracy: 0.7222 - val_loss: 2.2348 - val_accuracy: 0.2000 - val_top-5-accuracy: 0.7200\n",
      "Epoch 5/40\n",
      "2/2 [==============================] - 12s 5s/step - loss: 2.5735 - accuracy: 0.2600 - top-5-accuracy: 0.7622 - val_loss: 2.1482 - val_accuracy: 0.2000 - val_top-5-accuracy: 0.7600\n",
      "Epoch 6/40\n",
      "2/2 [==============================] - 12s 5s/step - loss: 2.3288 - accuracy: 0.2956 - top-5-accuracy: 0.7667 - val_loss: 2.1156 - val_accuracy: 0.2600 - val_top-5-accuracy: 0.7600\n",
      "Epoch 7/40\n",
      "2/2 [==============================] - 12s 5s/step - loss: 2.3295 - accuracy: 0.2844 - top-5-accuracy: 0.7511 - val_loss: 1.9193 - val_accuracy: 0.2400 - val_top-5-accuracy: 0.8200\n",
      "Epoch 8/40\n"
     ]
    },
    {
     "name": "stdout",
     "output_type": "stream",
     "text": [
      "2/2 [==============================] - 12s 6s/step - loss: 2.0117 - accuracy: 0.3511 - top-5-accuracy: 0.8178 - val_loss: 2.0220 - val_accuracy: 0.2000 - val_top-5-accuracy: 0.7800\n",
      "Epoch 9/40\n",
      "2/2 [==============================] - 12s 5s/step - loss: 2.0052 - accuracy: 0.3356 - top-5-accuracy: 0.8378 - val_loss: 2.0356 - val_accuracy: 0.2200 - val_top-5-accuracy: 0.8200\n",
      "Epoch 10/40\n",
      "2/2 [==============================] - 12s 5s/step - loss: 1.8270 - accuracy: 0.3911 - top-5-accuracy: 0.8644 - val_loss: 1.9373 - val_accuracy: 0.1800 - val_top-5-accuracy: 0.8200\n",
      "Epoch 11/40\n",
      "2/2 [==============================] - 11s 5s/step - loss: 1.7559 - accuracy: 0.4022 - top-5-accuracy: 0.8622 - val_loss: 1.8520 - val_accuracy: 0.1800 - val_top-5-accuracy: 0.8400\n",
      "Epoch 12/40\n",
      "2/2 [==============================] - 12s 5s/step - loss: 1.6991 - accuracy: 0.4156 - top-5-accuracy: 0.8867 - val_loss: 1.8829 - val_accuracy: 0.2000 - val_top-5-accuracy: 0.8200\n",
      "Epoch 13/40\n",
      "2/2 [==============================] - 12s 5s/step - loss: 1.6546 - accuracy: 0.4311 - top-5-accuracy: 0.8956 - val_loss: 1.9169 - val_accuracy: 0.2400 - val_top-5-accuracy: 0.8200\n",
      "Epoch 14/40\n",
      "2/2 [==============================] - 12s 5s/step - loss: 1.5289 - accuracy: 0.4578 - top-5-accuracy: 0.9289 - val_loss: 1.9392 - val_accuracy: 0.2200 - val_top-5-accuracy: 0.8200\n",
      "Epoch 15/40\n",
      "2/2 [==============================] - 12s 5s/step - loss: 1.4881 - accuracy: 0.4867 - top-5-accuracy: 0.9133 - val_loss: 1.9297 - val_accuracy: 0.2800 - val_top-5-accuracy: 0.8200\n",
      "Epoch 16/40\n",
      "2/2 [==============================] - 12s 5s/step - loss: 1.3831 - accuracy: 0.5244 - top-5-accuracy: 0.9267 - val_loss: 1.9450 - val_accuracy: 0.2800 - val_top-5-accuracy: 0.8400\n",
      "Epoch 17/40\n",
      "2/2 [==============================] - 12s 5s/step - loss: 1.4769 - accuracy: 0.5200 - top-5-accuracy: 0.9133 - val_loss: 1.9817 - val_accuracy: 0.3000 - val_top-5-accuracy: 0.8400\n",
      "Epoch 18/40\n",
      "2/2 [==============================] - 11s 5s/step - loss: 1.3890 - accuracy: 0.5022 - top-5-accuracy: 0.9400 - val_loss: 2.1354 - val_accuracy: 0.2800 - val_top-5-accuracy: 0.8000\n",
      "Epoch 19/40\n",
      "2/2 [==============================] - 12s 5s/step - loss: 1.1976 - accuracy: 0.5867 - top-5-accuracy: 0.9400 - val_loss: 2.2593 - val_accuracy: 0.2200 - val_top-5-accuracy: 0.7600\n",
      "Epoch 20/40\n",
      "2/2 [==============================] - 11s 5s/step - loss: 1.1603 - accuracy: 0.5956 - top-5-accuracy: 0.9533 - val_loss: 2.3355 - val_accuracy: 0.2200 - val_top-5-accuracy: 0.7800\n",
      "Epoch 21/40\n",
      "2/2 [==============================] - 12s 5s/step - loss: 1.1248 - accuracy: 0.5889 - top-5-accuracy: 0.9667 - val_loss: 2.2641 - val_accuracy: 0.2000 - val_top-5-accuracy: 0.8000\n",
      "Epoch 22/40\n",
      "2/2 [==============================] - 11s 5s/step - loss: 1.1604 - accuracy: 0.6000 - top-5-accuracy: 0.9556 - val_loss: 2.2150 - val_accuracy: 0.2400 - val_top-5-accuracy: 0.8000\n",
      "Epoch 23/40\n",
      "2/2 [==============================] - 11s 5s/step - loss: 1.0993 - accuracy: 0.6178 - top-5-accuracy: 0.9733 - val_loss: 2.2329 - val_accuracy: 0.3000 - val_top-5-accuracy: 0.7400\n",
      "Epoch 24/40\n",
      "2/2 [==============================] - 12s 5s/step - loss: 1.0002 - accuracy: 0.6600 - top-5-accuracy: 0.9644 - val_loss: 2.2114 - val_accuracy: 0.3000 - val_top-5-accuracy: 0.7600\n",
      "Epoch 25/40\n",
      "2/2 [==============================] - 12s 6s/step - loss: 0.8465 - accuracy: 0.7178 - top-5-accuracy: 0.9733 - val_loss: 2.2151 - val_accuracy: 0.3200 - val_top-5-accuracy: 0.7800\n",
      "Epoch 26/40\n",
      "2/2 [==============================] - 12s 5s/step - loss: 0.8154 - accuracy: 0.7111 - top-5-accuracy: 0.9867 - val_loss: 2.2916 - val_accuracy: 0.2800 - val_top-5-accuracy: 0.8200\n",
      "Epoch 27/40\n",
      "2/2 [==============================] - 12s 5s/step - loss: 0.8543 - accuracy: 0.6978 - top-5-accuracy: 0.9800 - val_loss: 2.4508 - val_accuracy: 0.3000 - val_top-5-accuracy: 0.8000\n",
      "Epoch 28/40\n",
      "2/2 [==============================] - 12s 5s/step - loss: 0.8120 - accuracy: 0.7378 - top-5-accuracy: 0.9800 - val_loss: 2.5049 - val_accuracy: 0.3200 - val_top-5-accuracy: 0.7800\n",
      "Epoch 29/40\n",
      "2/2 [==============================] - 12s 5s/step - loss: 0.7486 - accuracy: 0.7356 - top-5-accuracy: 0.9822 - val_loss: 2.5080 - val_accuracy: 0.2600 - val_top-5-accuracy: 0.7400\n",
      "Epoch 30/40\n",
      "2/2 [==============================] - 12s 5s/step - loss: 0.7001 - accuracy: 0.7689 - top-5-accuracy: 0.9867 - val_loss: 2.5498 - val_accuracy: 0.2600 - val_top-5-accuracy: 0.7800\n",
      "Epoch 31/40\n",
      "2/2 [==============================] - 11s 5s/step - loss: 0.6079 - accuracy: 0.7956 - top-5-accuracy: 0.9956 - val_loss: 2.5296 - val_accuracy: 0.2800 - val_top-5-accuracy: 0.8000\n",
      "Epoch 32/40\n",
      "2/2 [==============================] - 12s 6s/step - loss: 0.5453 - accuracy: 0.8178 - top-5-accuracy: 0.9911 - val_loss: 2.6074 - val_accuracy: 0.3600 - val_top-5-accuracy: 0.7800\n",
      "Epoch 33/40\n",
      "2/2 [==============================] - 12s 5s/step - loss: 0.5400 - accuracy: 0.8000 - top-5-accuracy: 0.9978 - val_loss: 2.6320 - val_accuracy: 0.3000 - val_top-5-accuracy: 0.8000\n",
      "Epoch 34/40\n",
      "2/2 [==============================] - 12s 5s/step - loss: 0.5243 - accuracy: 0.8133 - top-5-accuracy: 0.9956 - val_loss: 2.7665 - val_accuracy: 0.2800 - val_top-5-accuracy: 0.8200\n",
      "Epoch 35/40\n",
      "2/2 [==============================] - 12s 5s/step - loss: 0.4792 - accuracy: 0.8311 - top-5-accuracy: 0.9978 - val_loss: 2.7976 - val_accuracy: 0.2400 - val_top-5-accuracy: 0.8000\n",
      "Epoch 36/40\n",
      "2/2 [==============================] - 12s 5s/step - loss: 0.4631 - accuracy: 0.8289 - top-5-accuracy: 1.0000 - val_loss: 2.7761 - val_accuracy: 0.2200 - val_top-5-accuracy: 0.7800\n",
      "Epoch 37/40\n",
      "2/2 [==============================] - 12s 5s/step - loss: 0.4247 - accuracy: 0.8489 - top-5-accuracy: 0.9978 - val_loss: 2.7514 - val_accuracy: 0.2400 - val_top-5-accuracy: 0.8200\n",
      "Epoch 38/40\n",
      "2/2 [==============================] - 12s 5s/step - loss: 0.4155 - accuracy: 0.8444 - top-5-accuracy: 0.9978 - val_loss: 2.8030 - val_accuracy: 0.2800 - val_top-5-accuracy: 0.8400\n",
      "Epoch 39/40\n",
      "2/2 [==============================] - 11s 5s/step - loss: 0.3922 - accuracy: 0.8511 - top-5-accuracy: 0.9956 - val_loss: 2.9365 - val_accuracy: 0.2600 - val_top-5-accuracy: 0.8400\n",
      "Epoch 40/40\n",
      "2/2 [==============================] - 12s 5s/step - loss: 0.3398 - accuracy: 0.8844 - top-5-accuracy: 1.0000 - val_loss: 3.2167 - val_accuracy: 0.2800 - val_top-5-accuracy: 0.8400\n",
      "16/16 [==============================] - 5s 320ms/step - loss: 2.5370 - accuracy: 0.3200 - top-5-accuracy: 0.8240\n",
      "Test Accuracy : 32.0%\n",
      "Test Top 5 Accuracy : 82.4%\n"
     ]
    }
   ],
   "source": [
    "vit_classifier = create_vit_classifier()\n",
    "history = run(vit_classifier)"
   ]
  },
  {
   "cell_type": "code",
   "execution_count": 20,
   "id": "91b11393",
   "metadata": {},
   "outputs": [],
   "source": [
    "class_names = [\n",
    "    'airplane',\n",
    "    'automobile',\n",
    "    'bird',\n",
    "    'car',\n",
    "    'deer',\n",
    "    'dog',\n",
    "    'frog',\n",
    "    'horse',\n",
    "    'ship',\n",
    "    'truck'\n",
    "]"
   ]
  },
  {
   "cell_type": "code",
   "execution_count": 21,
   "id": "8fa71451",
   "metadata": {},
   "outputs": [],
   "source": [
    "def img_predict(images, model):\n",
    "    if len(images.shape)==3:\n",
    "        out = model.predict(images.reshape(-1, *images.shape))\n",
    "    else:\n",
    "        out = model.predict(images)\n",
    "    prediction = np.argmax(out, axis=1)\n",
    "    img_prediction = [class_names[i] for i in prediction]\n",
    "    return img_prediction"
   ]
  },
  {
   "cell_type": "code",
   "execution_count": 22,
   "id": "08995253",
   "metadata": {},
   "outputs": [
    {
     "name": "stdout",
     "output_type": "stream",
     "text": [
      "1/1 [==============================] - 0s 34ms/step\n",
      "['dog']\n"
     ]
    },
    {
     "data": {
      "image/png": "[encoded data removed]",
      "text/plain": [
       "<Figure size 640x480 with 1 Axes>"
      ]
     },
     "metadata": {},
     "output_type": "display_data"
    }
   ],
   "source": [
    "index = 16\n",
    "plt.imshow(x_test[index])\n",
    "prediction = img_predict(x_test[index], vit_classifier)\n",
    "print(prediction)"
   ]
  }
 ],
 "metadata": {
  "kernelspec": {
   "display_name": "Python 3 (ipykernel)",
   "language": "python",
   "name": "python3"
  },
  "language_info": {
   "codemirror_mode": {
    "name": "ipython",
    "version": 3
   },
   "file_extension": ".py",
   "mimetype": "text/x-python",
   "name": "python",
   "nbconvert_exporter": "python",
   "pygments_lexer": "ipython3",
   "version": "3.9.17"
  }
 },
 "nbformat": 4,
 "nbformat_minor": 5
}
